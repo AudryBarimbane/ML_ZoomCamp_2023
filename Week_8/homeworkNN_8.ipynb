{
 "cells": [
  {
   "cell_type": "code",
   "execution_count": 1,
   "id": "fad2289a-6b15-4cc3-9e5b-ca5f9b07faa5",
   "metadata": {
    "execution": {
     "iopub.execute_input": "2023-11-20T18:12:30.783038Z",
     "iopub.status.busy": "2023-11-20T18:12:30.782687Z",
     "iopub.status.idle": "2023-11-20T18:12:33.435322Z",
     "shell.execute_reply": "2023-11-20T18:12:33.434616Z",
     "shell.execute_reply.started": "2023-11-20T18:12:30.783012Z"
    },
    "tags": []
   },
   "outputs": [
    {
     "name": "stderr",
     "output_type": "stream",
     "text": [
      "2023-11-20 18:12:31.646677: I external/local_tsl/tsl/cuda/cudart_stub.cc:31] Could not find cuda drivers on your machine, GPU will not be used.\n",
      "2023-11-20 18:12:31.688875: E external/local_xla/xla/stream_executor/cuda/cuda_dnn.cc:9261] Unable to register cuDNN factory: Attempting to register factory for plugin cuDNN when one has already been registered\n",
      "2023-11-20 18:12:31.688908: E external/local_xla/xla/stream_executor/cuda/cuda_fft.cc:607] Unable to register cuFFT factory: Attempting to register factory for plugin cuFFT when one has already been registered\n",
      "2023-11-20 18:12:31.689969: E external/local_xla/xla/stream_executor/cuda/cuda_blas.cc:1515] Unable to register cuBLAS factory: Attempting to register factory for plugin cuBLAS when one has already been registered\n",
      "2023-11-20 18:12:31.696541: I external/local_tsl/tsl/cuda/cudart_stub.cc:31] Could not find cuda drivers on your machine, GPU will not be used.\n",
      "2023-11-20 18:12:31.696978: I tensorflow/core/platform/cpu_feature_guard.cc:182] This TensorFlow binary is optimized to use available CPU instructions in performance-critical operations.\n",
      "To enable the following instructions: AVX2 AVX512F FMA, in other operations, rebuild TensorFlow with the appropriate compiler flags.\n",
      "2023-11-20 18:12:32.576761: W tensorflow/compiler/tf2tensorrt/utils/py_utils.cc:38] TF-TRT Warning: Could not find TensorRT\n",
      "/opt/saturncloud/envs/saturn/lib/python3.9/site-packages/scipy/__init__.py:146: UserWarning: A NumPy version >=1.17.3 and <1.25.0 is required for this version of SciPy (detected version 1.26.2\n",
      "  warnings.warn(f\"A NumPy version >={np_minversion} and <{np_maxversion}\"\n"
     ]
    }
   ],
   "source": [
    "import os\n",
    "import shutil\n",
    "\n",
    "import numpy as np\n",
    "import matplotlib.pyplot as plt\n",
    "\n",
    "from tensorflow import keras\n",
    "\n",
    "from keras import layers\n",
    "from keras import models\n",
    "from keras import optimizers\n",
    "\n",
    "from keras.preprocessing.image import ImageDataGenerator\n",
    "from keras.preprocessing import image"
   ]
  },
  {
   "cell_type": "code",
   "execution_count": 2,
   "id": "0c156143-d022-484a-9ed6-ec9388b0f9ef",
   "metadata": {
    "execution": {
     "iopub.execute_input": "2023-11-20T18:13:26.759683Z",
     "iopub.status.busy": "2023-11-20T18:13:26.759113Z",
     "iopub.status.idle": "2023-11-20T18:13:26.763443Z",
     "shell.execute_reply": "2023-11-20T18:13:26.762573Z",
     "shell.execute_reply.started": "2023-11-20T18:13:26.759654Z"
    },
    "tags": []
   },
   "outputs": [],
   "source": [
    "import tensorflow as tf\n"
   ]
  },
  {
   "cell_type": "code",
   "execution_count": 3,
   "id": "8a663df2-0ad2-48ce-a707-d2f742912419",
   "metadata": {
    "execution": {
     "iopub.execute_input": "2023-11-20T18:14:03.705767Z",
     "iopub.status.busy": "2023-11-20T18:14:03.705224Z",
     "iopub.status.idle": "2023-11-20T18:14:03.914402Z",
     "shell.execute_reply": "2023-11-20T18:14:03.913519Z",
     "shell.execute_reply.started": "2023-11-20T18:14:03.705730Z"
    },
    "tags": []
   },
   "outputs": [
    {
     "name": "stderr",
     "output_type": "stream",
     "text": [
      "2023-11-20 18:14:03.779476: W external/local_tsl/tsl/framework/cpu_allocator_impl.cc:83] Allocation of 44859392 exceeds 10% of free system memory.\n",
      "2023-11-20 18:14:03.839662: W external/local_tsl/tsl/framework/cpu_allocator_impl.cc:83] Allocation of 44859392 exceeds 10% of free system memory.\n",
      "2023-11-20 18:14:03.863393: W external/local_tsl/tsl/framework/cpu_allocator_impl.cc:83] Allocation of 44859392 exceeds 10% of free system memory.\n"
     ]
    }
   ],
   "source": [
    "model = tf.keras.models.Sequential([\n",
    "    keras.layers.Conv2D(filters=32, kernel_size=(3, 3), activation='relu', input_shape=(150, 150, 3)),\n",
    "    keras.layers.MaxPooling2D(pool_size=(2, 2)),\n",
    "    keras.layers.Flatten(),\n",
    "    keras.layers.Dense(64, activation='relu'),\n",
    "    keras.layers.Dense(1, activation='sigmoid')\n",
    "])"
   ]
  },
  {
   "cell_type": "code",
   "execution_count": 4,
   "id": "d822d8ad-1f7a-43b1-842f-801762c3303a",
   "metadata": {
    "execution": {
     "iopub.execute_input": "2023-11-20T18:14:39.643207Z",
     "iopub.status.busy": "2023-11-20T18:14:39.642827Z",
     "iopub.status.idle": "2023-11-20T18:14:39.658528Z",
     "shell.execute_reply": "2023-11-20T18:14:39.657894Z",
     "shell.execute_reply.started": "2023-11-20T18:14:39.643179Z"
    },
    "tags": []
   },
   "outputs": [],
   "source": [
    "model.compile(loss='binary_crossentropy',optimizer=optimizers.SGD(learning_rate=.002,momentum=.8),metrics=['acc'])"
   ]
  },
  {
   "cell_type": "code",
   "execution_count": 5,
   "id": "9073a6d1-4d40-4b44-99d5-0732e05189d1",
   "metadata": {
    "execution": {
     "iopub.execute_input": "2023-11-20T18:14:51.562987Z",
     "iopub.status.busy": "2023-11-20T18:14:51.562620Z",
     "iopub.status.idle": "2023-11-20T18:14:51.578748Z",
     "shell.execute_reply": "2023-11-20T18:14:51.578109Z",
     "shell.execute_reply.started": "2023-11-20T18:14:51.562957Z"
    },
    "tags": []
   },
   "outputs": [
    {
     "name": "stdout",
     "output_type": "stream",
     "text": [
      "Model: \"sequential\"\n",
      "_________________________________________________________________\n",
      " Layer (type)                Output Shape              Param #   \n",
      "=================================================================\n",
      " conv2d (Conv2D)             (None, 148, 148, 32)      896       \n",
      "                                                                 \n",
      " max_pooling2d (MaxPooling2  (None, 74, 74, 32)        0         \n",
      " D)                                                              \n",
      "                                                                 \n",
      " flatten (Flatten)           (None, 175232)            0         \n",
      "                                                                 \n",
      " dense (Dense)               (None, 64)                11214912  \n",
      "                                                                 \n",
      " dense_1 (Dense)             (None, 1)                 65        \n",
      "                                                                 \n",
      "=================================================================\n",
      "Total params: 11215873 (42.79 MB)\n",
      "Trainable params: 11215873 (42.79 MB)\n",
      "Non-trainable params: 0 (0.00 Byte)\n",
      "_________________________________________________________________\n"
     ]
    }
   ],
   "source": [
    "model.summary()"
   ]
  },
  {
   "cell_type": "markdown",
   "id": "7d05de6c-ec1a-4ca9-b155-8f38fe050650",
   "metadata": {},
   "source": [
    "## Question 1\n"
   ]
  },
  {
   "cell_type": "markdown",
   "id": "1ef2bdfc-b916-4286-a058-e08ffd6168f8",
   "metadata": {},
   "source": [
    "#### Best loss function : binary crossentropy"
   ]
  },
  {
   "cell_type": "markdown",
   "id": "e50d470e-adc7-4ede-9f55-8c6c333f3d95",
   "metadata": {},
   "source": [
    "## Question 2"
   ]
  },
  {
   "cell_type": "markdown",
   "id": "061ccb57-b004-4b24-a540-7792a4a8a87a",
   "metadata": {},
   "source": [
    "#### Total number of parameters in the convolutional layer : 896"
   ]
  },
  {
   "cell_type": "code",
   "execution_count": 8,
   "id": "e37a5ec5-b1bf-41c6-b2bd-1c3603f32ef7",
   "metadata": {
    "execution": {
     "iopub.execute_input": "2023-11-20T18:18:45.499043Z",
     "iopub.status.busy": "2023-11-20T18:18:45.498676Z",
     "iopub.status.idle": "2023-11-20T18:18:45.502572Z",
     "shell.execute_reply": "2023-11-20T18:18:45.501853Z",
     "shell.execute_reply.started": "2023-11-20T18:18:45.499018Z"
    },
    "tags": []
   },
   "outputs": [],
   "source": [
    "train_dir = 'data/train'\n",
    "test_dir = 'data/test'"
   ]
  },
  {
   "cell_type": "code",
   "execution_count": 9,
   "id": "692a2c7b-ccc4-4833-8459-a12fcf5d00cd",
   "metadata": {
    "execution": {
     "iopub.execute_input": "2023-11-20T18:18:51.923386Z",
     "iopub.status.busy": "2023-11-20T18:18:51.922978Z",
     "iopub.status.idle": "2023-11-20T18:18:51.927058Z",
     "shell.execute_reply": "2023-11-20T18:18:51.926297Z",
     "shell.execute_reply.started": "2023-11-20T18:18:51.923358Z"
    },
    "tags": []
   },
   "outputs": [],
   "source": [
    "train_datagen = ImageDataGenerator(rescale=1./255)"
   ]
  },
  {
   "cell_type": "code",
   "execution_count": 10,
   "id": "1ff4b1ec-a893-4668-9014-d99f93276464",
   "metadata": {
    "execution": {
     "iopub.execute_input": "2023-11-20T18:18:53.434439Z",
     "iopub.status.busy": "2023-11-20T18:18:53.433900Z",
     "iopub.status.idle": "2023-11-20T18:18:53.537531Z",
     "shell.execute_reply": "2023-11-20T18:18:53.536874Z",
     "shell.execute_reply.started": "2023-11-20T18:18:53.434411Z"
    },
    "tags": []
   },
   "outputs": [
    {
     "name": "stdout",
     "output_type": "stream",
     "text": [
      "Found 3677 images belonging to 2 classes.\n"
     ]
    }
   ],
   "source": [
    "train_gen = train_datagen.flow_from_directory(train_dir, target_size=(150,150), batch_size = 20, class_mode = 'binary', shuffle=True)"
   ]
  },
  {
   "cell_type": "code",
   "execution_count": 11,
   "id": "94c29997-1279-4b46-8c44-68ab0ad5511e",
   "metadata": {
    "execution": {
     "iopub.execute_input": "2023-11-20T18:19:04.704322Z",
     "iopub.status.busy": "2023-11-20T18:19:04.703931Z",
     "iopub.status.idle": "2023-11-20T18:19:04.707803Z",
     "shell.execute_reply": "2023-11-20T18:19:04.707040Z",
     "shell.execute_reply.started": "2023-11-20T18:19:04.704275Z"
    },
    "tags": []
   },
   "outputs": [],
   "source": [
    "val_datagen = ImageDataGenerator(rescale=1./255)"
   ]
  },
  {
   "cell_type": "code",
   "execution_count": 12,
   "id": "6e3cdd26-376a-4b20-bb29-c3743f45de65",
   "metadata": {
    "execution": {
     "iopub.execute_input": "2023-11-20T18:21:28.283143Z",
     "iopub.status.busy": "2023-11-20T18:21:28.282764Z",
     "iopub.status.idle": "2023-11-20T18:21:28.315325Z",
     "shell.execute_reply": "2023-11-20T18:21:28.314658Z",
     "shell.execute_reply.started": "2023-11-20T18:21:28.283117Z"
    },
    "tags": []
   },
   "outputs": [
    {
     "name": "stdout",
     "output_type": "stream",
     "text": [
      "Found 918 images belonging to 2 classes.\n"
     ]
    }
   ],
   "source": [
    "val_gen = val_datagen.flow_from_directory(test_dir, target_size=(150,150), batch_size = 20, class_mode = 'binary', shuffle=True)"
   ]
  },
  {
   "cell_type": "markdown",
   "id": "7a57fadd-0948-4cf4-ae80-a6748d55461f",
   "metadata": {},
   "source": [
    "## Question 3 "
   ]
  },
  {
   "cell_type": "code",
   "execution_count": 14,
   "id": "5154d3af-ef3d-48bf-a36e-5af929c9125b",
   "metadata": {
    "execution": {
     "iopub.execute_input": "2023-11-20T18:25:45.643286Z",
     "iopub.status.busy": "2023-11-20T18:25:45.642902Z",
     "iopub.status.idle": "2023-11-20T18:38:05.300370Z",
     "shell.execute_reply": "2023-11-20T18:38:05.299604Z",
     "shell.execute_reply.started": "2023-11-20T18:25:45.643260Z"
    },
    "tags": []
   },
   "outputs": [
    {
     "name": "stdout",
     "output_type": "stream",
     "text": [
      "Epoch 1/10\n"
     ]
    },
    {
     "name": "stderr",
     "output_type": "stream",
     "text": [
      "2023-11-20 18:25:46.150838: W external/local_tsl/tsl/framework/cpu_allocator_impl.cc:83] Allocation of 44859392 exceeds 10% of free system memory.\n",
      "2023-11-20 18:25:46.459044: W external/local_tsl/tsl/framework/cpu_allocator_impl.cc:83] Allocation of 44859392 exceeds 10% of free system memory.\n"
     ]
    },
    {
     "name": "stdout",
     "output_type": "stream",
     "text": [
      "184/184 [==============================] - 74s 398ms/step - loss: 0.6837 - acc: 0.5532 - val_loss: 0.6458 - val_acc: 0.6046\n",
      "Epoch 2/10\n",
      "184/184 [==============================] - 72s 392ms/step - loss: 0.6581 - acc: 0.5869 - val_loss: 0.6385 - val_acc: 0.5697\n",
      "Epoch 3/10\n",
      "184/184 [==============================] - 76s 415ms/step - loss: 0.6443 - acc: 0.6160 - val_loss: 0.6299 - val_acc: 0.5871\n",
      "Epoch 4/10\n",
      "184/184 [==============================] - 71s 387ms/step - loss: 0.6287 - acc: 0.6345 - val_loss: 0.5900 - val_acc: 0.6721\n",
      "Epoch 5/10\n",
      "184/184 [==============================] - 72s 391ms/step - loss: 0.5969 - acc: 0.6845 - val_loss: 0.5833 - val_acc: 0.6841\n",
      "Epoch 6/10\n",
      "184/184 [==============================] - 77s 416ms/step - loss: 0.5541 - acc: 0.7199 - val_loss: 0.5458 - val_acc: 0.7048\n",
      "Epoch 7/10\n",
      "184/184 [==============================] - 72s 392ms/step - loss: 0.5223 - acc: 0.7571 - val_loss: 0.5513 - val_acc: 0.7266\n",
      "Epoch 8/10\n",
      "184/184 [==============================] - 72s 391ms/step - loss: 0.4939 - acc: 0.7743 - val_loss: 0.5117 - val_acc: 0.7549\n",
      "Epoch 9/10\n",
      "184/184 [==============================] - 71s 386ms/step - loss: 0.4618 - acc: 0.7982 - val_loss: 0.5937 - val_acc: 0.6885\n",
      "Epoch 10/10\n",
      "184/184 [==============================] - 71s 386ms/step - loss: 0.4424 - acc: 0.7993 - val_loss: 0.5865 - val_acc: 0.7081\n"
     ]
    }
   ],
   "source": [
    "history = model.fit(\n",
    "    train_gen,\n",
    "    epochs=10,\n",
    "    validation_data=val_gen\n",
    ")"
   ]
  },
  {
   "cell_type": "code",
   "execution_count": 22,
   "id": "23d4e4d8-ae5a-4377-a7d5-6479e260fb4c",
   "metadata": {
    "execution": {
     "iopub.execute_input": "2023-11-20T18:50:11.443453Z",
     "iopub.status.busy": "2023-11-20T18:50:11.443072Z",
     "iopub.status.idle": "2023-11-20T18:50:11.448398Z",
     "shell.execute_reply": "2023-11-20T18:50:11.447403Z",
     "shell.execute_reply.started": "2023-11-20T18:50:11.443426Z"
    },
    "tags": []
   },
   "outputs": [
    {
     "name": "stdout",
     "output_type": "stream",
     "text": [
      "median accuracy: 0.702\n"
     ]
    }
   ],
   "source": [
    "acc = history.history['acc']\n",
    "print(\"median accuracy:\", round(np.median(acc), 3))"
   ]
  },
  {
   "cell_type": "code",
   "execution_count": 23,
   "id": "3ddf7fb8-c51b-469e-b06d-6441245ffdcb",
   "metadata": {
    "execution": {
     "iopub.execute_input": "2023-11-20T18:53:16.127200Z",
     "iopub.status.busy": "2023-11-20T18:53:16.126829Z",
     "iopub.status.idle": "2023-11-20T18:53:16.132425Z",
     "shell.execute_reply": "2023-11-20T18:53:16.131351Z",
     "shell.execute_reply.started": "2023-11-20T18:53:16.127173Z"
    },
    "tags": []
   },
   "outputs": [
    {
     "name": "stdout",
     "output_type": "stream",
     "text": [
      "standard deviation of training loss: 0.08166098691605865\n"
     ]
    }
   ],
   "source": [
    "loss = history.history['loss']\n",
    "print(\"standard deviation of training loss:\", np.std(history.history['loss']))"
   ]
  },
  {
   "cell_type": "markdown",
   "id": "a7825d79-68bb-40b8-85f1-67e525b856fa",
   "metadata": {},
   "source": [
    "## Data augmentation"
   ]
  },
  {
   "cell_type": "code",
   "execution_count": 24,
   "id": "691d47d7-cd39-48ef-8854-f554063539d8",
   "metadata": {
    "execution": {
     "iopub.execute_input": "2023-11-20T18:55:00.423070Z",
     "iopub.status.busy": "2023-11-20T18:55:00.422700Z",
     "iopub.status.idle": "2023-11-20T18:55:00.427019Z",
     "shell.execute_reply": "2023-11-20T18:55:00.426196Z",
     "shell.execute_reply.started": "2023-11-20T18:55:00.423042Z"
    },
    "tags": []
   },
   "outputs": [],
   "source": [
    "image_gen = ImageDataGenerator(rescale=1./255,\n",
    "                               rotation_range=50,\n",
    "                               width_shift_range=0.1,\n",
    "                                height_shift_range=0.1,\n",
    "                                zoom_range=0.1,\n",
    "                                horizontal_flip=True,\n",
    "                                fill_mode='nearest')"
   ]
  },
  {
   "cell_type": "code",
   "execution_count": 25,
   "id": "b344fd4f-b7c7-40a9-a832-6473c4daae61",
   "metadata": {
    "execution": {
     "iopub.execute_input": "2023-11-20T18:55:27.083255Z",
     "iopub.status.busy": "2023-11-20T18:55:27.082884Z",
     "iopub.status.idle": "2023-11-20T18:55:27.182403Z",
     "shell.execute_reply": "2023-11-20T18:55:27.181697Z",
     "shell.execute_reply.started": "2023-11-20T18:55:27.083229Z"
    },
    "tags": []
   },
   "outputs": [
    {
     "name": "stdout",
     "output_type": "stream",
     "text": [
      "Found 3677 images belonging to 2 classes.\n"
     ]
    }
   ],
   "source": [
    "train_data = image_gen.flow_from_directory(\n",
    "    './data/train',\n",
    "    target_size=(150, 150),\n",
    "    batch_size=20,\n",
    "    shuffle=True,\n",
    "    class_mode='binary'\n",
    ")"
   ]
  },
  {
   "cell_type": "code",
   "execution_count": 26,
   "id": "9e0bcabc-d67d-41ac-ab8a-fa1fc8fc3d41",
   "metadata": {
    "execution": {
     "iopub.execute_input": "2023-11-20T18:55:42.563158Z",
     "iopub.status.busy": "2023-11-20T18:55:42.562797Z",
     "iopub.status.idle": "2023-11-20T18:55:42.597368Z",
     "shell.execute_reply": "2023-11-20T18:55:42.596740Z",
     "shell.execute_reply.started": "2023-11-20T18:55:42.563134Z"
    },
    "tags": []
   },
   "outputs": [
    {
     "name": "stdout",
     "output_type": "stream",
     "text": [
      "Found 918 images belonging to 2 classes.\n"
     ]
    }
   ],
   "source": [
    "val_data = image_gen.flow_from_directory(\n",
    "    './data/test',\n",
    "    target_size=(150, 150),\n",
    "    batch_size=20,\n",
    "    shuffle=True,\n",
    "    class_mode='binary'\n",
    ")"
   ]
  },
  {
   "cell_type": "markdown",
   "id": "58736d15-7a70-4ef0-aacb-5beb3065c339",
   "metadata": {},
   "source": [
    "## Question 5"
   ]
  },
  {
   "cell_type": "code",
   "execution_count": 27,
   "id": "2d459b70-8dfc-4c93-bb9f-3f9a3291d5cc",
   "metadata": {
    "execution": {
     "iopub.execute_input": "2023-11-20T18:57:17.563265Z",
     "iopub.status.busy": "2023-11-20T18:57:17.562886Z",
     "iopub.status.idle": "2023-11-20T19:13:43.627020Z",
     "shell.execute_reply": "2023-11-20T19:13:43.626374Z",
     "shell.execute_reply.started": "2023-11-20T18:57:17.563238Z"
    },
    "tags": []
   },
   "outputs": [
    {
     "name": "stdout",
     "output_type": "stream",
     "text": [
      "Epoch 1/10\n",
      "184/184 [==============================] - 87s 475ms/step - loss: 0.5072 - acc: 0.7612 - val_loss: 0.5029 - val_acc: 0.7821\n",
      "Epoch 2/10\n",
      "184/184 [==============================] - 88s 477ms/step - loss: 0.4965 - acc: 0.7716 - val_loss: 0.4886 - val_acc: 0.7778\n",
      "Epoch 3/10\n",
      "184/184 [==============================] - 87s 475ms/step - loss: 0.4857 - acc: 0.7789 - val_loss: 0.4840 - val_acc: 0.7669\n",
      "Epoch 4/10\n",
      "184/184 [==============================] - 87s 471ms/step - loss: 0.4841 - acc: 0.7756 - val_loss: 0.5482 - val_acc: 0.7124\n",
      "Epoch 5/10\n",
      "184/184 [==============================] - 86s 468ms/step - loss: 0.4932 - acc: 0.7716 - val_loss: 0.5060 - val_acc: 0.7473\n",
      "Epoch 6/10\n",
      "184/184 [==============================] - 88s 476ms/step - loss: 0.4727 - acc: 0.7852 - val_loss: 0.5088 - val_acc: 0.7538\n",
      "Epoch 7/10\n",
      "184/184 [==============================] - 88s 475ms/step - loss: 0.4697 - acc: 0.7862 - val_loss: 0.4761 - val_acc: 0.7756\n",
      "Epoch 8/10\n",
      "184/184 [==============================] - 90s 490ms/step - loss: 0.4646 - acc: 0.7873 - val_loss: 0.4818 - val_acc: 0.7778\n",
      "Epoch 9/10\n",
      "184/184 [==============================] - 86s 470ms/step - loss: 0.4651 - acc: 0.7868 - val_loss: 0.4712 - val_acc: 0.7821\n",
      "Epoch 10/10\n",
      "184/184 [==============================] - 88s 478ms/step - loss: 0.4606 - acc: 0.7919 - val_loss: 0.4656 - val_acc: 0.7963\n"
     ]
    }
   ],
   "source": [
    "history = model.fit(\n",
    "    train_data,\n",
    "    epochs=10,\n",
    "    validation_data=val_data\n",
    ")"
   ]
  },
  {
   "cell_type": "code",
   "execution_count": 28,
   "id": "47612424-9ae4-4b35-9a20-37830f6719ec",
   "metadata": {
    "execution": {
     "iopub.execute_input": "2023-11-20T19:14:16.625597Z",
     "iopub.status.busy": "2023-11-20T19:14:16.625213Z",
     "iopub.status.idle": "2023-11-20T19:14:16.632646Z",
     "shell.execute_reply": "2023-11-20T19:14:16.631776Z",
     "shell.execute_reply.started": "2023-11-20T19:14:16.625572Z"
    },
    "tags": []
   },
   "outputs": [
    {
     "data": {
      "text/plain": [
       "0.49332896769046786"
      ]
     },
     "execution_count": 28,
     "metadata": {},
     "output_type": "execute_result"
    }
   ],
   "source": [
    "np.mean(history.history['val_loss'])"
   ]
  },
  {
   "cell_type": "markdown",
   "id": "b105cde3-4399-4b8a-8805-f20477dc805e",
   "metadata": {},
   "source": [
    "## Question 6"
   ]
  },
  {
   "cell_type": "code",
   "execution_count": 30,
   "id": "5c62a060-d0b3-4fef-ac56-86482bc70544",
   "metadata": {
    "execution": {
     "iopub.execute_input": "2023-11-20T19:14:57.891355Z",
     "iopub.status.busy": "2023-11-20T19:14:57.890955Z",
     "iopub.status.idle": "2023-11-20T19:14:57.896700Z",
     "shell.execute_reply": "2023-11-20T19:14:57.895846Z",
     "shell.execute_reply.started": "2023-11-20T19:14:57.891326Z"
    },
    "tags": []
   },
   "outputs": [
    {
     "data": {
      "text/plain": [
       "0.7771241784095764"
      ]
     },
     "execution_count": 30,
     "metadata": {},
     "output_type": "execute_result"
    }
   ],
   "source": [
    "np.average(history.history['val_acc'][5:])"
   ]
  },
  {
   "cell_type": "code",
   "execution_count": null,
   "id": "1376a3a8-0c96-4ce9-937c-b5ee79489900",
   "metadata": {},
   "outputs": [],
   "source": []
  }
 ],
 "metadata": {
  "kernelspec": {
   "display_name": "saturn (Python 3)",
   "language": "python",
   "name": "python3"
  },
  "language_info": {
   "codemirror_mode": {
    "name": "ipython",
    "version": 3
   },
   "file_extension": ".py",
   "mimetype": "text/x-python",
   "name": "python",
   "nbconvert_exporter": "python",
   "pygments_lexer": "ipython3",
   "version": "3.9.15"
  }
 },
 "nbformat": 4,
 "nbformat_minor": 5
}
